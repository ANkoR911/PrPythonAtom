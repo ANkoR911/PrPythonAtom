{
 "cells": [
  {
   "cell_type": "markdown",
   "metadata": {},
   "source": [
    "# Недельник 1\n",
    "\n",
    "Как было сказано на лекции, на текущей неделе вы получаете ежедневные задания. Система оценки следующая: в первый день(четверг) вы делаете первый pull-request в ветку homework_01. Потом каждый день делаете коммит, он будет автоматически привязывать к pull-request. Если задачка не сделана в течении 2-х дней она сгорает. (Можно четверг сделать в четверг и пятницу)"
   ]
  },
  {
   "cell_type": "markdown",
   "metadata": {},
   "source": [
    "# Четверг"
   ]
  },
  {
   "cell_type": "code",
   "execution_count": 29,
   "metadata": {},
   "outputs": [],
   "source": [
    "def calculate(input_str):\n",
    "    return eval(input_str)"
   ]
  },
  {
   "cell_type": "code",
   "execution_count": 30,
   "metadata": {},
   "outputs": [],
   "source": [
    "assert calculate(\"2 + 2 * 2\") == 6\n",
    "assert calculate(\"345 / 5 * 21\") == 1449.\n",
    "assert calculate(\"3^3 - 10 + 41 * 3\") == 119\n",
    "assert calculate(\"42 / 7 * 32\") == 192.0\n",
    "assert calculate(\"2^3 + 7 * 8\") == 57\n",
    "assert calculate(\"5 + 1 * 10\") == 15"
   ]
  },
  {
   "cell_type": "markdown",
   "metadata": {},
   "source": [
    "# Пятница"
   ]
  },
  {
   "cell_type": "code",
   "execution_count": 31,
   "metadata": {},
   "outputs": [],
   "source": [
    "def transform_string(inp_string):\n",
    "    str_Rez = \"\"\n",
    "    a = 0\n",
    "    Test = False\n",
    "    for i in inp_string:\n",
    "        if i.isdigit():\n",
    "            a = a*10 + int(i)\n",
    "            Test = True\n",
    "        else:\n",
    "            if Test:\n",
    "                str_Rez += i*a\n",
    "                a = 0\n",
    "                Test = False\n",
    "            else:\n",
    "                str_Rez += i\n",
    "        #print(str_Rez)\n",
    "    inp_string = str_Rez\n",
    "    return inp_string\n",
    "#print(transform_string(\"HE2LO\"))"
   ]
  },
  {
   "cell_type": "code",
   "execution_count": 32,
   "metadata": {},
   "outputs": [],
   "source": [
    "assert transform_string(\"HE2LO\") == \"HELLO\"\n",
    "assert transform_string(\"HI\") == \"HI\"\n",
    "assert transform_string(\"пр12ивет\") == \"приииииииииииивет\"\n",
    "assert transform_string(\"2л3у78н65тик\") == 'ллуууннннннннннннннннннннннннннннннннннннннннннннннннннннннннннннннннннннннннннннннтттттттттттттттттттттттттттттттттттттттттттттттттттттттттттттттттик'\n",
    "assert transform_string(\"0тик0\") == 'ик'\n",
    "assert transform_string(\"0тик1\") == 'ик'"
   ]
  },
  {
   "cell_type": "markdown",
   "metadata": {},
   "source": [
    "# Суббота"
   ]
  },
  {
   "cell_type": "code",
   "execution_count": 33,
   "metadata": {},
   "outputs": [],
   "source": [
    "def string_stat(inp_string):\n",
    "    vowels = set(\" ЁёУуЕеАаОоЭэЯяИиЮюЫыОо \")\n",
    "    consonants = set(\" ЙйЦцКкНнГгШшЩщЗзХхФфВвПпРрЛлДдЖжЧчСсМмТтБб \")\n",
    "    par1 = 0\n",
    "    par2 = 0\n",
    "    par3 = 0\n",
    "    par4 = 0\n",
    "    par5 = 0\n",
    "    for i in inp_string:\n",
    "        if i in vowels:\n",
    "            par1 += 1\n",
    "        if i in consonants:\n",
    "            par2 += 1\n",
    "        if i.isdigit():\n",
    "            par3 += 1\n",
    "        if i.islower():\n",
    "            par4 += 1\n",
    "        if i.isupper():\n",
    "            par5 += 1\n",
    "        Rez = (par1, par2, par3, par4, par5)\n",
    "    return Rez"
   ]
  },
  {
   "cell_type": "code",
   "execution_count": 34,
   "metadata": {},
   "outputs": [],
   "source": [
    "assert string_stat(\"Тевирп\") == (2, 4, 0, 5, 1)\n",
    "assert string_stat(\"КоРоВа4\") == (3, 3, 1, 3, 3)\n",
    "assert string_stat(\"ОперацияЫ\") == (6, 3, 0, 7, 2)\n",
    "assert string_stat(\"42\") == (0, 0, 2, 0, 0)"
   ]
  },
  {
   "cell_type": "markdown",
   "metadata": {},
   "source": [
    "# Воскресенье - ВЫХОДНОЙ"
   ]
  },
  {
   "cell_type": "markdown",
   "metadata": {},
   "source": [
    "# Понедельник"
   ]
  },
  {
   "cell_type": "code",
   "execution_count": 63,
   "metadata": {},
   "outputs": [],
   "source": [
    "def dict_inverter(input_dict):\n",
    "    data_keys = []\n",
    "    data_value = []\n",
    "    for key, value in input_dict.items():\n",
    "        data_keys.append(key)\n",
    "        data_value.append(value)\n",
    "\n",
    "    input_dict.clear()\n",
    "    for x in range(len(data_keys)):\n",
    "        data_value[x].reverse()\n",
    "        for y in data_value[x]:\n",
    "            if y in input_dict.keys():\n",
    "                mass = []\n",
    "                if input_dict[y] in data_keys:\n",
    "                    mass.append(input_dict[y])\n",
    "                else:\n",
    "                    mass+=(input_dict[y])\n",
    "                mass.append(data_keys[x])\n",
    "                input_dict[y] = mass\n",
    "            else:\n",
    "                input_dict[y] = data_keys[x]\n",
    "\n",
    "\n",
    "    return input_dict"
   ]
  },
  {
   "cell_type": "code",
   "execution_count": 64,
   "metadata": {},
   "outputs": [],
   "source": [
    "assert dict_inverter({\"mango\" : [\"eatable\"], \"pillow\": [\"sleepable\"]}) == {\"eatable\": \"mango\", \"sleepable\": \"pillow\"}\n",
    "assert dict_inverter({\"mango\" : [\"eatable\", \"readable\"]}) == {\"readable\":\"mango\", \"eatable\":\"mango\"}\n",
    "assert dict_inverter({\"mango\" : [\"eatable\"], \"banana\": [\"eatable\"]}) == {\"eatable\": [\"mango\", \"banana\"]}\n",
    "assert dict_inverter({\"mango\" : [\"eatable\"], \"banana\": [\"eatable\"], \"apple\": [\"eatable\"]}) == {\"eatable\": [\"mango\", \"banana\", \"apple\"]}\n"
   ]
  },
  {
   "cell_type": "markdown",
   "metadata": {},
   "source": [
    "# Вторник"
   ]
  },
  {
   "cell_type": "code",
   "execution_count": 71,
   "metadata": {},
   "outputs": [],
   "source": [
    "def uniq_array(input_arr):\n",
    "    a = set()\n",
    "    b = []\n",
    "    for i in input_arr:\n",
    "        a.add(i)\n",
    "    #print(a)\n",
    "    for i in a:\n",
    "        b.append(i)\n",
    "    #print(b)\n",
    "    return b\n",
    "\n",
    "\n",
    "#print(uniq_array([\"f\", \"t\", \"f\"]))"
   ]
  },
  {
   "cell_type": "code",
   "execution_count": 72,
   "metadata": {},
   "outputs": [],
   "source": [
    "assert uniq_array([0]) == [0]\n",
    "assert uniq_array([0, 1, 2, 3]) == [0, 1, 2, 3]\n",
    "assert uniq_array([\"f\", \"t\", \"f\"]) == ['f', 't']\n",
    "assert uniq_array(['rt', 'rt']) == ['rt']"
   ]
  }
 ],
 "metadata": {
  "kernelspec": {
   "display_name": "Python 3",
   "language": "python",
   "name": "python3"
  },
  "language_info": {
   "codemirror_mode": {
    "name": "ipython",
    "version": 3
   },
   "file_extension": ".py",
   "mimetype": "text/x-python",
   "name": "python",
   "nbconvert_exporter": "python",
   "pygments_lexer": "ipython3",
   "version": "3.6.5"
  }
 },
 "nbformat": 4,
 "nbformat_minor": 2
}
